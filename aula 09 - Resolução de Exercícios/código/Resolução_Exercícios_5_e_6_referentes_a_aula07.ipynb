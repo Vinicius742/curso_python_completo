{
  "nbformat": 4,
  "nbformat_minor": 0,
  "metadata": {
    "colab": {
      "name": "Resolução Exercícios 5 e 6 referentes a aula07.ipynb",
      "provenance": [],
      "collapsed_sections": []
    },
    "kernelspec": {
      "name": "python3",
      "display_name": "Python 3"
    }
  },
  "cells": [
    {
      "cell_type": "markdown",
      "metadata": {
        "id": "IozTgw2TXuwB",
        "colab_type": "text"
      },
      "source": [
        "# 5 - Faça um Programa que peça a temperatura em graus Celsius, transforme e mostre em graus Farenheit.\n",
        "\t\n",
        "  >Celsius to Fahrenheit:   °F = °C × 1,8 + 32\n",
        "  \n",
        "  >Fahrenheit to Celsius:   °C = (°F − 32) / 1,8\n"
      ]
    },
    {
      "cell_type": "code",
      "metadata": {
        "id": "e1TidAjDZJ1Y",
        "colab_type": "code",
        "colab": {}
      },
      "source": [
        "graus_C = float(input('Digite a temperatura (C): '))\n",
        "graus_F = (graus_C * 1.8) + 32\n",
        "print('A conversão de ' + str(graus_C) + \" para fahrenheit é: \" + str(graus_F))"
      ],
      "execution_count": 0,
      "outputs": []
    },
    {
      "cell_type": "markdown",
      "metadata": {
        "id": "yv6vqHXFZ-f3",
        "colab_type": "text"
      },
      "source": [
        "# 6 - Tendo como dados de entrada a altura de uma pessoa, construa um algoritmo que calcule seu peso ideal, usando a seguinte fórmula: \n",
        ">(72.7*altura)  58"
      ]
    },
    {
      "cell_type": "code",
      "metadata": {
        "id": "MTh-S7ALXvpa",
        "colab_type": "code",
        "colab": {}
      },
      "source": [
        "altura = float(input('Digite a sua altura: '))\n",
        "peso_ideal = (72.7 * altura) - 58\n",
        "print('O seu peso ideal é: ' + str(round(peso_ideal, 2)))"
      ],
      "execution_count": 0,
      "outputs": []
    }
  ]
}