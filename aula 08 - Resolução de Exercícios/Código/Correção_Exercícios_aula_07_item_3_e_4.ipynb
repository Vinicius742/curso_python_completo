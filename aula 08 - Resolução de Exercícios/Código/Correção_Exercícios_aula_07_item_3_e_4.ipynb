{
  "nbformat": 4,
  "nbformat_minor": 0,
  "metadata": {
    "colab": {
      "name": "Correção Exercícios aula-07 - item 3 e 4.ipynb",
      "provenance": [],
      "collapsed_sections": []
    },
    "kernelspec": {
      "name": "python3",
      "display_name": "Python 3"
    }
  },
  "cells": [
    {
      "cell_type": "markdown",
      "metadata": {
        "id": "g8SBHl4Vogre",
        "colab_type": "text"
      },
      "source": [
        "# 3) Calcule  a área de um retângulo. Peça o usuário para entrar com os valores de comprimento e largura e depois retorne com o resultado.\n",
        "\n",
        "$ A = b * h$\n",
        "\n",
        "![](https://static.todamateria.com.br/upload/57/7b/577bef35ed40f-area-do-retangulo.jpg)"
      ]
    },
    {
      "cell_type": "code",
      "metadata": {
        "id": "Nlgu65CetiUH",
        "colab_type": "code",
        "colab": {}
      },
      "source": [
        "base = float(input('Digite a base do retângulo(cm): '))\n",
        "altura = float(input('Digite a altura do retângulo(cm): '))\n",
        "area_retangulo = base * altura\n",
        "print('A área do retângulo em centímetros é: ' + str(area_retangulo))\n"
      ],
      "execution_count": 0,
      "outputs": []
    },
    {
      "cell_type": "markdown",
      "metadata": {
        "id": "zte2R7cqoqEM",
        "colab_type": "text"
      },
      "source": [
        "# 4) Faça um Programa que peça o raio de um círculo, calcule e mostre sua área.\n",
        "$ A = \\pi * r^2$\n",
        "\n",
        "\n",
        "![](https://static.todamateria.com.br/upload/57/7d/577d279002e6c-area-do-circulo.jpg)"
      ]
    },
    {
      "cell_type": "code",
      "metadata": {
        "id": "50AaULzl4YkF",
        "colab_type": "code",
        "colab": {}
      },
      "source": [
        "import math\n",
        "raio = float(input('Digite o raio do círculo(cm): '))\n",
        "area_circulo = math.pi * (raio ** 2)\n",
        "print('A área do círculo é (cm): ' + str(round(area_circulo, 2)))"
      ],
      "execution_count": 0,
      "outputs": []
    },
    {
      "cell_type": "code",
      "metadata": {
        "id": "LORjECMruZjF",
        "colab_type": "code",
        "colab": {}
      },
      "source": [
        ""
      ],
      "execution_count": 0,
      "outputs": []
    }
  ]
}